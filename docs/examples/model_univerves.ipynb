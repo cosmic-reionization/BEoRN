{
 "cells": [
  {
   "cell_type": "markdown",
   "id": "50370ffa",
   "metadata": {},
   "source": [
    "# Model universes"
   ]
  },
  {
   "cell_type": "code",
   "execution_count": 1,
   "id": "6d5c776e",
   "metadata": {},
   "outputs": [],
   "source": [
    "import numpy as np \n",
    "import simple_python_package_template"
   ]
  },
  {
   "cell_type": "markdown",
   "id": "26cc9e31",
   "metadata": {},
   "source": [
    "### Einsten-de Sitter universe"
   ]
  },
  {
   "cell_type": "code",
   "execution_count": 2,
   "id": "bb3d1a53",
   "metadata": {},
   "outputs": [
    {
     "name": "stdout",
     "output_type": "stream",
     "text": [
      "Cosmological parameters\n",
      "{'Om': 1.0, 'Or': 0, 'Ok': 0, 'Ode': 0, 'h': 0.68}\n",
      "Code parameters\n",
      "{'zmin': 0.01, 'zmax': 9.0, 'Nz': 100, 'verbose': True}\n"
     ]
    }
   ],
   "source": [
    "param_EdS = simple_python_package_template.param()\n",
    "param_EdS.cosmo.Om  = 1.\n",
    "param_EdS.cosmo.Or  = 0\n",
    "param_EdS.cosmo.Ode = 0\n",
    "param_EdS.cosmo.Ok  = 0\n",
    "param_EdS.cosmo.h   = 0.68\n",
    "param_EdS.code.Nz   = 100\n",
    "\n",
    "print('Cosmological parameters')\n",
    "print(param_EdS.cosmo.__dict__)\n",
    "print('Code parameters')\n",
    "print(param_EdS.code.__dict__)"
   ]
  },
  {
   "cell_type": "code",
   "execution_count": 3,
   "id": "dae78111",
   "metadata": {},
   "outputs": [],
   "source": [
    "D_EdS = simple_python_package_template.CosmoDistances(param_EdS)"
   ]
  },
  {
   "cell_type": "markdown",
   "id": "22d3aa44",
   "metadata": {},
   "source": [
    "### de Sitter universe"
   ]
  },
  {
   "cell_type": "code",
   "execution_count": 4,
   "id": "3c07ddb6",
   "metadata": {},
   "outputs": [
    {
     "name": "stdout",
     "output_type": "stream",
     "text": [
      "Cosmological parameters\n",
      "{'Om': 0.0, 'Or': 0, 'Ok': 0, 'Ode': 1.0, 'h': 0.68}\n",
      "Code parameters\n",
      "{'zmin': 0.01, 'zmax': 9.0, 'Nz': 100, 'verbose': True}\n"
     ]
    }
   ],
   "source": [
    "param_dS = simple_python_package_template.param()\n",
    "param_dS.cosmo.Om  = 0.\n",
    "param_dS.cosmo.Or  = 0\n",
    "param_dS.cosmo.Ode = 1.\n",
    "param_dS.cosmo.Ok  = 0\n",
    "param_dS.cosmo.h   = 0.68\n",
    "param_dS.code.Nz   = 100\n",
    "\n",
    "print('Cosmological parameters')\n",
    "print(param_dS.cosmo.__dict__)\n",
    "print('Code parameters')\n",
    "print(param_dS.code.__dict__)"
   ]
  },
  {
   "cell_type": "code",
   "execution_count": 5,
   "id": "92ce5202",
   "metadata": {},
   "outputs": [],
   "source": [
    "D_dS = simple_python_package_template.CosmoDistances(param_dS)"
   ]
  },
  {
   "cell_type": "markdown",
   "id": "e2ea37b6",
   "metadata": {},
   "source": [
    "### Planck universe"
   ]
  },
  {
   "cell_type": "code",
   "execution_count": 6,
   "id": "d18c19b3",
   "metadata": {},
   "outputs": [
    {
     "name": "stdout",
     "output_type": "stream",
     "text": [
      "Cosmological parameters\n",
      "{'Om': 0.31, 'Or': 0.0, 'Ok': 0.0, 'Ode': 0.69, 'h': 0.68}\n",
      "Code parameters\n",
      "{'zmin': 0.01, 'zmax': 9.0, 'Nz': 100, 'verbose': True}\n"
     ]
    }
   ],
   "source": [
    "param = simple_python_package_template.param()\n",
    "param.cosmo.Om  = 0.31\n",
    "param.cosmo.Or  = 0.0\n",
    "param.cosmo.Ode = 0.69\n",
    "param.cosmo.Ok  = 0.0\n",
    "param.cosmo.h   = 0.68\n",
    "param.code.Nz   = 100\n",
    "\n",
    "print('Cosmological parameters')\n",
    "print(param.cosmo.__dict__)\n",
    "print('Code parameters')\n",
    "print(param.code.__dict__)"
   ]
  },
  {
   "cell_type": "code",
   "execution_count": 7,
   "id": "5a921cfc",
   "metadata": {},
   "outputs": [],
   "source": [
    "D = simple_python_package_template.CosmoDistances(param)"
   ]
  },
  {
   "cell_type": "markdown",
   "id": "7f52b8db",
   "metadata": {},
   "source": [
    "## Plot models"
   ]
  },
  {
   "cell_type": "code",
   "execution_count": 8,
   "id": "87c14e7e",
   "metadata": {},
   "outputs": [
    {
     "data": {
      "image/png": "[encoded data removed]",
      "text/plain": [
       "<Figure size 500x400 with 1 Axes>"
      ]
     },
     "metadata": {},
     "output_type": "display_data"
    }
   ],
   "source": [
    "import matplotlib.pyplot as plt\n",
    "\n",
    "zs = np.linspace(param.code.zmin,param.code.zmax,param.code.Nz)\n",
    "fig, ax = plt.subplots(1,1,figsize=(5,4))\n",
    "ax.loglog(zs, D_EdS.comoving_dist(zs), ls='--', label='EdS')\n",
    "ax.loglog(zs, D_dS.comoving_dist(zs), ls='-.', label='dS')\n",
    "ax.loglog(zs, D.comoving_dist(zs), ls='-', label='Planck')\n",
    "ax.set_xlabel('Redshift')\n",
    "ax.set_ylabel('Comoving distance')\n",
    "ax.axis([0.01,10,0])\n",
    "plt.show()"
   ]
  },
  {
   "cell_type": "code",
   "execution_count": null,
   "id": "e194cadf",
   "metadata": {},
   "outputs": [],
   "source": []
  }
 ],
 "metadata": {
  "kernelspec": {
   "display_name": "Python 3 (ipykernel)",
   "language": "python",
   "name": "python3"
  },
  "language_info": {
   "codemirror_mode": {
    "name": "ipython",
    "version": 3
   },
   "file_extension": ".py",
   "mimetype": "text/x-python",
   "name": "python",
   "nbconvert_exporter": "python",
   "pygments_lexer": "ipython3",
   "version": "3.10.8"
  }
 },
 "nbformat": 4,
 "nbformat_minor": 5
}
